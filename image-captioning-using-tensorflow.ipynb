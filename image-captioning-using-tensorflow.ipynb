{
 "cells": [
  {
   "cell_type": "code",
   "execution_count": 1,
   "metadata": {},
   "outputs": [
    {
     "name": "stderr",
     "output_type": "stream",
     "text": [
      "/opt/conda/lib/python3.7/site-packages/tqdm/std.py:666: FutureWarning: The Panel class is removed from pandas. Accessing it from the top-level namespace will also be removed in the next version\n",
      "  from pandas import Panel\n"
     ]
    }
   ],
   "source": [
    "import tensorflow as tf\n",
    "import cv2\n",
    "import pandas as pd\n",
    "import numpy as np\n",
    "import os\n",
    "import random\n",
    "import re\n",
    "import time\n",
    "import json\n",
    "import wandb\n",
    "import pickle\n",
    "\n",
    "from matplotlib import pyplot as plt\n",
    "from glob import glob\n",
    "from PIL import Image\n",
    "from tqdm import tqdm\n",
    "\n",
    "# Scikit-learn includes many helpful utilities\n",
    "from sklearn.model_selection import train_test_split\n",
    "from sklearn.utils import shuffle\n",
    "\n",
    "tqdm.pandas()"
   ]
  },
  {
   "cell_type": "code",
   "execution_count": 2,
   "metadata": {},
   "outputs": [
    {
     "name": "stderr",
     "output_type": "stream",
     "text": [
      "\u001b[34m\u001b[1mwandb\u001b[0m: \u001b[32m\u001b[41mERROR\u001b[0m Not authenticated.  Copy a key from https://app.wandb.ai/authorize\n",
      "\u001b[34m\u001b[1mwandb\u001b[0m: \u001b[32m\u001b[41mERROR\u001b[0m Can't accept input in this environment, you should set WANDB_API_KEY or call wandb.login(key='YOUR_API_KEY')\n"
     ]
    },
    {
     "data": {
      "text/plain": [
       "False"
      ]
     },
     "execution_count": 2,
     "metadata": {},
     "output_type": "execute_result"
    }
   ],
   "source": [
    "wandb.login()"
   ]
  },
  {
   "cell_type": "code",
   "execution_count": 3,
   "metadata": {},
   "outputs": [],
   "source": [
    "df_captions = pd.read_csv('../input/flickr-image-dataset/flickr30k_images/results.csv', delimiter='|')"
   ]
  },
  {
   "cell_type": "code",
   "execution_count": 4,
   "metadata": {},
   "outputs": [
    {
     "data": {
      "text/html": [
       "<div>\n",
       "<style scoped>\n",
       "    .dataframe tbody tr th:only-of-type {\n",
       "        vertical-align: middle;\n",
       "    }\n",
       "\n",
       "    .dataframe tbody tr th {\n",
       "        vertical-align: top;\n",
       "    }\n",
       "\n",
       "    .dataframe thead th {\n",
       "        text-align: right;\n",
       "    }\n",
       "</style>\n",
       "<table border=\"1\" class=\"dataframe\">\n",
       "  <thead>\n",
       "    <tr style=\"text-align: right;\">\n",
       "      <th></th>\n",
       "      <th>image_name</th>\n",
       "      <th>comment_number</th>\n",
       "      <th>comment</th>\n",
       "    </tr>\n",
       "  </thead>\n",
       "  <tbody>\n",
       "    <tr>\n",
       "      <th>0</th>\n",
       "      <td>1000092795.jpg</td>\n",
       "      <td>0</td>\n",
       "      <td>Two young guys with shaggy hair look at their...</td>\n",
       "    </tr>\n",
       "    <tr>\n",
       "      <th>1</th>\n",
       "      <td>1000092795.jpg</td>\n",
       "      <td>1</td>\n",
       "      <td>Two young , White males are outside near many...</td>\n",
       "    </tr>\n",
       "    <tr>\n",
       "      <th>2</th>\n",
       "      <td>1000092795.jpg</td>\n",
       "      <td>2</td>\n",
       "      <td>Two men in green shirts are standing in a yard .</td>\n",
       "    </tr>\n",
       "    <tr>\n",
       "      <th>3</th>\n",
       "      <td>1000092795.jpg</td>\n",
       "      <td>3</td>\n",
       "      <td>A man in a blue shirt standing in a garden .</td>\n",
       "    </tr>\n",
       "    <tr>\n",
       "      <th>4</th>\n",
       "      <td>1000092795.jpg</td>\n",
       "      <td>4</td>\n",
       "      <td>Two friends enjoy time spent together .</td>\n",
       "    </tr>\n",
       "  </tbody>\n",
       "</table>\n",
       "</div>"
      ],
      "text/plain": [
       "       image_name  comment_number  \\\n",
       "0  1000092795.jpg               0   \n",
       "1  1000092795.jpg               1   \n",
       "2  1000092795.jpg               2   \n",
       "3  1000092795.jpg               3   \n",
       "4  1000092795.jpg               4   \n",
       "\n",
       "                                             comment  \n",
       "0   Two young guys with shaggy hair look at their...  \n",
       "1   Two young , White males are outside near many...  \n",
       "2   Two men in green shirts are standing in a yard .  \n",
       "3       A man in a blue shirt standing in a garden .  \n",
       "4            Two friends enjoy time spent together .  "
      ]
     },
     "execution_count": 4,
     "metadata": {},
     "output_type": "execute_result"
    }
   ],
   "source": [
    "df_captions.head()"
   ]
  },
  {
   "cell_type": "code",
   "execution_count": 5,
   "metadata": {},
   "outputs": [],
   "source": [
    "df_captions.columns = ['image_name', 'comment_number', 'comment']"
   ]
  },
  {
   "cell_type": "code",
   "execution_count": 6,
   "metadata": {},
   "outputs": [
    {
     "name": "stderr",
     "output_type": "stream",
     "text": [
      "100%|██████████| 158915/158915 [00:00<00:00, 432722.64it/s]\n"
     ]
    }
   ],
   "source": [
    "df_captions['comment_new'] = df_captions['comment'].progress_apply(lambda x : '<start> ' + str(x) + ' <end>')"
   ]
  },
  {
   "cell_type": "code",
   "execution_count": 7,
   "metadata": {},
   "outputs": [
    {
     "name": "stderr",
     "output_type": "stream",
     "text": [
      "100%|██████████| 158915/158915 [00:00<00:00, 492079.43it/s]\n"
     ]
    }
   ],
   "source": [
    "path = '../input/flickr-image-dataset/flickr30k_images/flickr30k_images/'\n",
    "df_captions['image_name_new'] = df_captions['image_name'].progress_apply(lambda x : path + x)"
   ]
  },
  {
   "cell_type": "code",
   "execution_count": 8,
   "metadata": {},
   "outputs": [
    {
     "data": {
      "text/html": [
       "<div>\n",
       "<style scoped>\n",
       "    .dataframe tbody tr th:only-of-type {\n",
       "        vertical-align: middle;\n",
       "    }\n",
       "\n",
       "    .dataframe tbody tr th {\n",
       "        vertical-align: top;\n",
       "    }\n",
       "\n",
       "    .dataframe thead th {\n",
       "        text-align: right;\n",
       "    }\n",
       "</style>\n",
       "<table border=\"1\" class=\"dataframe\">\n",
       "  <thead>\n",
       "    <tr style=\"text-align: right;\">\n",
       "      <th></th>\n",
       "      <th>image_name</th>\n",
       "      <th>comment_number</th>\n",
       "      <th>comment</th>\n",
       "      <th>comment_new</th>\n",
       "      <th>image_name_new</th>\n",
       "    </tr>\n",
       "  </thead>\n",
       "  <tbody>\n",
       "    <tr>\n",
       "      <th>0</th>\n",
       "      <td>1000092795.jpg</td>\n",
       "      <td>0</td>\n",
       "      <td>Two young guys with shaggy hair look at their...</td>\n",
       "      <td>&lt;start&gt;  Two young guys with shaggy hair look ...</td>\n",
       "      <td>../input/flickr-image-dataset/flickr30k_images...</td>\n",
       "    </tr>\n",
       "    <tr>\n",
       "      <th>1</th>\n",
       "      <td>1000092795.jpg</td>\n",
       "      <td>1</td>\n",
       "      <td>Two young , White males are outside near many...</td>\n",
       "      <td>&lt;start&gt;  Two young , White males are outside n...</td>\n",
       "      <td>../input/flickr-image-dataset/flickr30k_images...</td>\n",
       "    </tr>\n",
       "    <tr>\n",
       "      <th>2</th>\n",
       "      <td>1000092795.jpg</td>\n",
       "      <td>2</td>\n",
       "      <td>Two men in green shirts are standing in a yard .</td>\n",
       "      <td>&lt;start&gt;  Two men in green shirts are standing ...</td>\n",
       "      <td>../input/flickr-image-dataset/flickr30k_images...</td>\n",
       "    </tr>\n",
       "    <tr>\n",
       "      <th>3</th>\n",
       "      <td>1000092795.jpg</td>\n",
       "      <td>3</td>\n",
       "      <td>A man in a blue shirt standing in a garden .</td>\n",
       "      <td>&lt;start&gt;  A man in a blue shirt standing in a g...</td>\n",
       "      <td>../input/flickr-image-dataset/flickr30k_images...</td>\n",
       "    </tr>\n",
       "    <tr>\n",
       "      <th>4</th>\n",
       "      <td>1000092795.jpg</td>\n",
       "      <td>4</td>\n",
       "      <td>Two friends enjoy time spent together .</td>\n",
       "      <td>&lt;start&gt;  Two friends enjoy time spent together...</td>\n",
       "      <td>../input/flickr-image-dataset/flickr30k_images...</td>\n",
       "    </tr>\n",
       "  </tbody>\n",
       "</table>\n",
       "</div>"
      ],
      "text/plain": [
       "       image_name comment_number  \\\n",
       "0  1000092795.jpg              0   \n",
       "1  1000092795.jpg              1   \n",
       "2  1000092795.jpg              2   \n",
       "3  1000092795.jpg              3   \n",
       "4  1000092795.jpg              4   \n",
       "\n",
       "                                             comment  \\\n",
       "0   Two young guys with shaggy hair look at their...   \n",
       "1   Two young , White males are outside near many...   \n",
       "2   Two men in green shirts are standing in a yard .   \n",
       "3       A man in a blue shirt standing in a garden .   \n",
       "4            Two friends enjoy time spent together .   \n",
       "\n",
       "                                         comment_new  \\\n",
       "0  <start>  Two young guys with shaggy hair look ...   \n",
       "1  <start>  Two young , White males are outside n...   \n",
       "2  <start>  Two men in green shirts are standing ...   \n",
       "3  <start>  A man in a blue shirt standing in a g...   \n",
       "4  <start>  Two friends enjoy time spent together...   \n",
       "\n",
       "                                      image_name_new  \n",
       "0  ../input/flickr-image-dataset/flickr30k_images...  \n",
       "1  ../input/flickr-image-dataset/flickr30k_images...  \n",
       "2  ../input/flickr-image-dataset/flickr30k_images...  \n",
       "3  ../input/flickr-image-dataset/flickr30k_images...  \n",
       "4  ../input/flickr-image-dataset/flickr30k_images...  "
      ]
     },
     "execution_count": 8,
     "metadata": {},
     "output_type": "execute_result"
    }
   ],
   "source": [
    "df_captions.head()"
   ]
  },
  {
   "cell_type": "code",
   "execution_count": 9,
   "metadata": {
    "_cell_guid": "79c7e3d0-c299-4dcb-8224-4455121ee9b0",
    "_uuid": "d629ff2d2480ee46fbb7e2d37f6b5fab8052498a"
   },
   "outputs": [],
   "source": [
    "all_img_name_vector =  df_captions['image_name_new'].tolist()\n",
    "all_captions = df_captions['comment_new'].tolist()"
   ]
  },
  {
   "cell_type": "code",
   "execution_count": 10,
   "metadata": {},
   "outputs": [],
   "source": [
    "# Shuffle captions and image_names together\n",
    "# Set a random state\n",
    "train_captions, img_name_vector = shuffle(all_captions,\n",
    "                                          all_img_name_vector,\n",
    "                                          random_state=1)"
   ]
  },
  {
   "cell_type": "code",
   "execution_count": 11,
   "metadata": {},
   "outputs": [
    {
     "data": {
      "text/plain": [
       "('<start>  A legless man is walking next to a man in a bright yellow shirt . <end>',\n",
       " '../input/flickr-image-dataset/flickr30k_images/flickr30k_images/6321643151.jpg')"
      ]
     },
     "execution_count": 11,
     "metadata": {},
     "output_type": "execute_result"
    }
   ],
   "source": [
    "train_captions[0],img_name_vector[0]"
   ]
  },
  {
   "cell_type": "code",
   "execution_count": 12,
   "metadata": {},
   "outputs": [],
   "source": [
    "# Select the first 30000 captions from the shuffled set\n",
    "num_examples = 10000\n",
    "train_captions = train_captions[:num_examples]\n",
    "img_name_vector = img_name_vector[:num_examples]"
   ]
  },
  {
   "cell_type": "code",
   "execution_count": 13,
   "metadata": {},
   "outputs": [
    {
     "data": {
      "text/plain": [
       "(10000, 158915)"
      ]
     },
     "execution_count": 13,
     "metadata": {},
     "output_type": "execute_result"
    }
   ],
   "source": [
    "len(train_captions), len(all_captions)"
   ]
  },
  {
   "cell_type": "markdown",
   "metadata": {},
   "source": [
    "### Preprocess the images using InceptionV3\n",
    "Next, you will use InceptionV3 (which is pretrained on Imagenet) to classify each image. You will extract features from the last convolutional layer.\n",
    "\n",
    "First, you will convert the images into InceptionV3's expected format by:\n",
    "\n",
    "Resizing the image to 299px by 299px\n",
    "Preprocess the images using the preprocess_input method to normalize the image so that it contains pixels in the range of -1 to 1, which matches the format of the images used to train InceptionV3."
   ]
  },
  {
   "cell_type": "code",
   "execution_count": 14,
   "metadata": {},
   "outputs": [],
   "source": [
    "def load_image(image_path,cap):\n",
    "    img = tf.io.read_file(image_path)\n",
    "    img = tf.image.decode_jpeg(img, channels=3)\n",
    "    img = tf.image.resize(img, (299, 299))\n",
    "    img = tf.keras.applications.inception_v3.preprocess_input(img)\n",
    "    return img, cap"
   ]
  },
  {
   "cell_type": "markdown",
   "metadata": {},
   "source": [
    "+ Initialize InceptionV3 and load the pretrained Imagenet weights\n",
    "\n",
    "+ Now you'll create a tf.keras model where the output layer is the last convolutional layer in the InceptionV3 architecture. The shape of the output of this layer is 8x8x2048. You use the last convolutional layer because you are using attention in this example. \n",
    "\n",
    "+ You don't perform this initialization during training because it could become a bottleneck.\n",
    "\n",
    "+ You forward each image through the network and store the resulting vector in a dictionary (image_name --> feature_vector).\n",
    "\n",
    "+ After all the images are passed through the network, you pickle the dictionary and save it to disk."
   ]
  },
  {
   "cell_type": "markdown",
   "metadata": {},
   "source": [
    "### Preprocess and tokenize the captions\n",
    "\n",
    "+ First, you'll tokenize the captions (for example, by splitting on spaces). This gives us a vocabulary of all of the unique words in the data (for example, \"surfing\", \"football\", and so on).\n",
    "\n",
    "+ Next, you'll limit the vocabulary size to the top 5,000 words (to save memory). You'll replace all other words with the token \"UNK\" (unknown).\n",
    "\n",
    "+ You then create word-to-index and index-to-word mappings.\n",
    "\n",
    "+ Finally, you pad all sequences to be the same length as the longest one."
   ]
  },
  {
   "cell_type": "code",
   "execution_count": 15,
   "metadata": {},
   "outputs": [],
   "source": [
    "# Find the maximum length of any caption in our dataset\n",
    "def calc_max_length(tensor):\n",
    "    return max(len(t) for t in tensor)"
   ]
  },
  {
   "cell_type": "code",
   "execution_count": 16,
   "metadata": {},
   "outputs": [],
   "source": [
    "# Choose the top 5000 words from the vocabulary\n",
    "top_k = 10000\n",
    "tokenizer = tf.keras.preprocessing.text.Tokenizer(num_words=top_k,\n",
    "                                                  oov_token=\"<unk>\",\n",
    "                                                  filters='!\"#$%&()*+.,-/:;=?@[\\]^_`{|}~ ')\n",
    "tokenizer.fit_on_texts(train_captions)"
   ]
  },
  {
   "cell_type": "code",
   "execution_count": 17,
   "metadata": {},
   "outputs": [],
   "source": [
    "tokenizer.word_index['<pad>'] = 0\n",
    "tokenizer.index_word[0] = '<pad>'"
   ]
  },
  {
   "cell_type": "code",
   "execution_count": 18,
   "metadata": {},
   "outputs": [],
   "source": [
    "# Create the tokenized vectors\n",
    "train_seqs = tokenizer.texts_to_sequences(train_captions)"
   ]
  },
  {
   "cell_type": "code",
   "execution_count": 19,
   "metadata": {},
   "outputs": [],
   "source": [
    "# Pad each vector to the max_length of the captions\n",
    "\n",
    "# If you do not provide a max_length value, pad_sequences calculates it automatically\n",
    "cap_vector = tf.keras.preprocessing.sequence.pad_sequences(train_seqs, padding='post')"
   ]
  },
  {
   "cell_type": "code",
   "execution_count": 20,
   "metadata": {},
   "outputs": [
    {
     "data": {
      "text/plain": [
       "62"
      ]
     },
     "execution_count": 20,
     "metadata": {},
     "output_type": "execute_result"
    }
   ],
   "source": [
    "# Calculates the max_length, which is used to store the attention weights\n",
    "max_length = calc_max_length(train_seqs)\n",
    "max_length"
   ]
  },
  {
   "cell_type": "markdown",
   "metadata": {},
   "source": [
    "#### Split the data into training and testing"
   ]
  },
  {
   "cell_type": "code",
   "execution_count": 21,
   "metadata": {},
   "outputs": [],
   "source": [
    "# Create training and validation sets using an 80-20 split\n",
    "img_name_train, img_name_val, cap_train, cap_val = train_test_split(img_name_vector,\n",
    "                                                                    cap_vector,\n",
    "                                                                    test_size=0.2,\n",
    "                                                                    random_state=0)\n"
   ]
  },
  {
   "cell_type": "code",
   "execution_count": 22,
   "metadata": {},
   "outputs": [
    {
     "data": {
      "text/plain": [
       "(8000, 8000, 2000, 2000)"
      ]
     },
     "execution_count": 22,
     "metadata": {},
     "output_type": "execute_result"
    }
   ],
   "source": [
    "len(img_name_train), len(cap_train), len(img_name_val), len(cap_val)\n"
   ]
  },
  {
   "cell_type": "markdown",
   "metadata": {},
   "source": [
    "### Create a tf.data dataset for training\n",
    "\n",
    "Our images and captions are ready! Next, let's create a tf.data dataset to use for training our model."
   ]
  },
  {
   "cell_type": "code",
   "execution_count": 23,
   "metadata": {},
   "outputs": [],
   "source": [
    "# Feel free to change these parameters according to your system's configuration\n",
    "\n",
    "BATCH_SIZE = 128\n",
    "BUFFER_SIZE = 1000\n",
    "embedding_dim = 100\n",
    "units = 256\n",
    "vocab_size = top_k + 1\n",
    "num_steps = len(img_name_train) // BATCH_SIZE\n",
    "# Shape of the vector extracted from InceptionV3 is (64, 2048)\n",
    "# These two variables represent that vector shape\n",
    "features_shape = 2048\n",
    "attention_features_shape = 64"
   ]
  },
  {
   "cell_type": "code",
   "execution_count": 24,
   "metadata": {},
   "outputs": [],
   "source": [
    "# # Load the numpy files\n",
    "# def map_func(img_name, cap):\n",
    "#     img_tensor = np.load(img_name.decode('utf-8')+'.npy')\n",
    "#     return img_tensor, cap"
   ]
  },
  {
   "cell_type": "code",
   "execution_count": 25,
   "metadata": {},
   "outputs": [
    {
     "data": {
      "text/plain": [
       "'../input/flickr-image-dataset/flickr30k_images/flickr30k_images/2511794705.jpg'"
      ]
     },
     "execution_count": 25,
     "metadata": {},
     "output_type": "execute_result"
    }
   ],
   "source": [
    "img_name_train[0]"
   ]
  },
  {
   "cell_type": "code",
   "execution_count": 26,
   "metadata": {},
   "outputs": [],
   "source": [
    "#Preparing the tf dataset\n",
    "dataset = tf.data.Dataset.from_tensor_slices((img_name_train, cap_train))\n",
    "\n",
    "# # Use map to load the numpy files in parallel\n",
    "dataset = dataset.map(lambda item1, item2: tf.numpy_function(\n",
    "          load_image, [item1, item2], [tf.float32, tf.int32]),\n",
    "          num_parallel_calls = tf.data.experimental.AUTOTUNE)\n",
    "\n",
    "# Shuffle and batch\n",
    "dataset = dataset.shuffle(BUFFER_SIZE).batch(BATCH_SIZE)\n",
    "dataset = dataset.prefetch(buffer_size=tf.data.experimental.AUTOTUNE)"
   ]
  },
  {
   "cell_type": "markdown",
   "metadata": {},
   "source": [
    "### Model\n",
    "+ The decoder below is identical to the one in the example for Neural Machine Translation with Attention.\n",
    "\n",
    "+ The model architecture is inspired by the Show, Attend and Tell paper.\n",
    "\n",
    "+ In this example, you extract the features from the lower convolutional layer of InceptionV3 giving us a vector of shape (8, 8, 2048).\n",
    "\n",
    "+ You squash that to a shape of (64, 2048).\n",
    "\n",
    "+ This vector is then passed through the CNN Encoder (which consists of a single Fully connected layer).\n",
    "\n",
    "+ The RNN (here GRU) attends over the image to predict the next word."
   ]
  },
  {
   "cell_type": "code",
   "execution_count": 27,
   "metadata": {},
   "outputs": [],
   "source": [
    "class BahdanauAttention(tf.keras.Model):\n",
    "    \n",
    "    \n",
    "    def __init__(self, units):\n",
    "        super(BahdanauAttention, self).__init__()\n",
    "        self.W1 = tf.keras.layers.Dense(units)\n",
    "        self.W2 = tf.keras.layers.Dense(units)\n",
    "        self.V = tf.keras.layers.Dense(1)\n",
    "\n",
    "    def call(self, features, hidden):\n",
    "        # features(CNN_encoder output) shape == (batch_size, 64, embedding_dim)\n",
    "\n",
    "        # hidden shape == (batch_size, hidden_size)\n",
    "        # hidden_with_time_axis shape == (batch_size, 1, hidden_size)\n",
    "        hidden_with_time_axis = tf.expand_dims(hidden, 1)\n",
    "\n",
    "        # score shape == (batch_size, 64, hidden_size)\n",
    "        score = tf.nn.tanh(self.W1(features) + self.W2(hidden_with_time_axis))\n",
    "\n",
    "        # attention_weights shape == (batch_size, 64, 1)\n",
    "        # you get 1 at the last axis because you are applying score to self.V\n",
    "        attention_weights = tf.nn.softmax(self.V(score), axis=1)\n",
    "\n",
    "        # context_vector shape after sum == (batch_size, hidden_size)\n",
    "        context_vector = attention_weights * features\n",
    "        context_vector = tf.reduce_sum(context_vector, axis=1)\n",
    "\n",
    "        return context_vector, attention_weights"
   ]
  },
  {
   "cell_type": "code",
   "execution_count": 28,
   "metadata": {},
   "outputs": [
    {
     "name": "stdout",
     "output_type": "stream",
     "text": [
      "Downloading data from https://github.com/fchollet/deep-learning-models/releases/download/v0.5/inception_v3_weights_tf_dim_ordering_tf_kernels_notop.h5\n",
      "87916544/87910968 [==============================] - 2s 0us/step\n"
     ]
    }
   ],
   "source": [
    "image_model = tf.keras.applications.InceptionV3(include_top=False, weights='imagenet')\n",
    "new_input = image_model.input\n",
    "hidden_layer = image_model.layers[-1].output"
   ]
  },
  {
   "cell_type": "markdown",
   "metadata": {},
   "source": [
    "### Encoder Network"
   ]
  },
  {
   "cell_type": "code",
   "execution_count": 29,
   "metadata": {},
   "outputs": [],
   "source": [
    "class CNN_Encoder(tf.keras.Model):\n",
    "    \n",
    "    # Since you have already extracted the features and dumped it using pickle\n",
    "    # This encoder passes those features through a Fully connected layer\n",
    "    def __init__(self, embedding_dim):\n",
    "        super(CNN_Encoder, self).__init__()\n",
    "        self.image_features_extract_model = tf.keras.Model(new_input, hidden_layer)\n",
    "        \n",
    "        # shape after fc == (batch_size, 64, embedding_dim)\n",
    "        self.fc = tf.keras.layers.Dense(embedding_dim)\n",
    "\n",
    "    def call(self, x):\n",
    "        x = self.image_features_extract_model(x)    #shape batch_sz * 8 * 8 * 2048\n",
    "        x = tf.reshape(x, (x.shape[0], -1, x.shape[3]))  #shape batch_sz * 64 * 2048\n",
    "        x = self.fc(x)     ##shape batch_sz * 64 * embedding_dim\n",
    "        x = tf.nn.relu(x)  ##shape batch_sz * 64 * embedding_dim with relu\n",
    "        return x"
   ]
  },
  {
   "cell_type": "markdown",
   "metadata": {},
   "source": [
    "### Decoder Network"
   ]
  },
  {
   "cell_type": "code",
   "execution_count": 30,
   "metadata": {},
   "outputs": [],
   "source": [
    "class RNN_Decoder(tf.keras.Model):  \n",
    "    \n",
    "    def __init__(self, embedding_dim, units, vocab_size):\n",
    "        super(RNN_Decoder, self).__init__()\n",
    "        self.units = units     \n",
    "\n",
    "        self.embedding = tf.keras.layers.Embedding(vocab_size, embedding_dim)\n",
    "        self.gru = tf.keras.layers.GRU(self.units,\n",
    "                                       return_sequences=True,\n",
    "                                       return_state=True,\n",
    "                                       recurrent_initializer='glorot_uniform')\n",
    "        self.fc1 = tf.keras.layers.Dense(self.units)\n",
    "        self.fc2 = tf.keras.layers.Dense(vocab_size)\n",
    "\n",
    "        self.attention = BahdanauAttention(self.units)\n",
    "\n",
    "        \n",
    "\n",
    "    def call(self, x, features, hidden):\n",
    "\n",
    "        # defining attention as a separate model\n",
    "        context_vector, attention_weights = self.attention(features, hidden)\n",
    "\n",
    "        # x shape after passing through embedding == (batch_size, 1, embedding_dim)\n",
    "        x = self.embedding(x)\n",
    "\n",
    "        # x shape after concatenation == (batch_size, 1, embedding_dim + hidden_size)\n",
    "        x = tf.concat([tf.expand_dims(context_vector, 1), x], axis=-1)\n",
    "\n",
    "        # passing the concatenated vector to the GRU\n",
    "        output, state = self.gru(x)\n",
    "\n",
    "        # shape == (batch_size, max_length, hidden_size)\n",
    "        x = self.fc1(output)\n",
    "\n",
    "        # x shape == (batch_size * max_length, hidden_size)\n",
    "        x = tf.reshape(x, (-1, x.shape[2]))\n",
    "\n",
    "        # output shape == (batch_size * max_length, vocab)\n",
    "        x = self.fc2(x)\n",
    "\n",
    "        return x, state, attention_weights\n",
    "\n",
    "    \n",
    "    def reset_state(self, batch_size):\n",
    "        return tf.zeros((batch_size, self.units))"
   ]
  },
  {
   "cell_type": "code",
   "execution_count": 31,
   "metadata": {},
   "outputs": [],
   "source": [
    "encoder = CNN_Encoder(embedding_dim)\n",
    "decoder = RNN_Decoder(embedding_dim, units, vocab_size)"
   ]
  },
  {
   "cell_type": "code",
   "execution_count": 32,
   "metadata": {},
   "outputs": [],
   "source": [
    "#Optimizer\n",
    "optimizer = tf.keras.optimizers.Adam()\n",
    "\n",
    "loss_object = tf.keras.losses.SparseCategoricalCrossentropy(from_logits=True, reduction='none')\n",
    "\n",
    "\n",
    "def loss_function(real, pred):\n",
    "    mask = tf.math.logical_not(tf.math.equal(real, 0))\n",
    "    loss_ = loss_object(real, pred)\n",
    "\n",
    "    mask = tf.cast(mask, dtype=loss_.dtype)\n",
    "    loss_ *= mask\n",
    "\n",
    "    return tf.reduce_mean(loss_)"
   ]
  },
  {
   "cell_type": "markdown",
   "metadata": {},
   "source": [
    "### Checkpoint"
   ]
  },
  {
   "cell_type": "code",
   "execution_count": 33,
   "metadata": {},
   "outputs": [],
   "source": [
    "checkpoint_path = \"/kaggle/working/checkpoints/train\"\n",
    "ckpt = tf.train.Checkpoint(encoder=encoder,\n",
    "                           decoder=decoder,\n",
    "                           optimizer = optimizer)\n",
    "ckpt_manager = tf.train.CheckpointManager(ckpt, checkpoint_path, max_to_keep=5)"
   ]
  },
  {
   "cell_type": "code",
   "execution_count": 34,
   "metadata": {},
   "outputs": [],
   "source": [
    "start_epoch = 0\n",
    "\n",
    "if ckpt_manager.latest_checkpoint:\n",
    "    start_epoch = int(ckpt_manager.latest_checkpoint.split('-')[-1])\n",
    "    \n",
    "    # restoring the latest checkpoint in checkpoint_path\n",
    "    ckpt.restore(ckpt_manager.latest_checkpoint)"
   ]
  },
  {
   "cell_type": "markdown",
   "metadata": {},
   "source": [
    "### Training\n",
    "\n",
    "+ You extract the features by passing the images through the encoder.\n",
    "\n",
    "+ The encoder output, hidden state(initialized to 0) and the decoder input (which is the start token) is passed to the decoder.\n",
    "\n",
    "+ The decoder returns the predictions and the decoder hidden state.\n",
    "\n",
    "+ The decoder hidden state is then passed back into the model and the predictions are used to calculate the loss.\n",
    "\n",
    "+ Use teacher forcing to decide the next input to the decoder.\n",
    "\n",
    "+ Teacher forcing is the technique where the target word is passed as the next input to the decoder.\n",
    "\n",
    "+ The final step is to calculate the gradients and apply it to the optimizer and backpropagate."
   ]
  },
  {
   "cell_type": "code",
   "execution_count": 35,
   "metadata": {},
   "outputs": [],
   "source": [
    "# adding this in a separate cell because if you run the training cell\n",
    "# many times, the loss_plot array will be reset\n",
    "loss_plot = []"
   ]
  },
  {
   "cell_type": "code",
   "execution_count": 36,
   "metadata": {},
   "outputs": [],
   "source": [
    "@tf.function\n",
    "def train_step(img_tensor, target):\n",
    "    loss = 0\n",
    "\n",
    "    # initializing the hidden state for each batch\n",
    "    # because the captions are not related from image to image\n",
    "    hidden = decoder.reset_state(batch_size=target.shape[0])\n",
    "\n",
    "    dec_input = tf.expand_dims([tokenizer.word_index['<start>']] * target.shape[0], 1)\n",
    "\n",
    "    with tf.GradientTape() as tape:\n",
    "        \n",
    "        features = encoder(img_tensor)\n",
    "        \n",
    "        for i in range(1, target.shape[1]):\n",
    "            \n",
    "            # passing the features through the decoder\n",
    "            predictions, hidden, _ = decoder(dec_input, features, hidden)\n",
    "            \n",
    "            loss += loss_function(target[:, i], predictions)\n",
    "            \n",
    "            # using teacher forcing\n",
    "            dec_input = tf.expand_dims(target[:, i], 1)\n",
    "\n",
    "    #Total loss for batchi\n",
    "    total_loss = (loss / int(target.shape[1]))  #loss for batch_i per word\n",
    "\n",
    "\n",
    "    #trainable_variables ????? -> Getting all th weights for the encoder and decoder for gradient descent\n",
    "    trainable_variables = encoder.trainable_variables + decoder.trainable_variables\n",
    "    \n",
    "    #Performing the gradient descent\n",
    "    gradients = tape.gradient(loss, trainable_variables)\n",
    "    \n",
    "    #applying the optimization\n",
    "    optimizer.apply_gradients(zip(gradients, trainable_variables))\n",
    "\n",
    "    return loss, total_loss"
   ]
  },
  {
   "cell_type": "code",
   "execution_count": 37,
   "metadata": {},
   "outputs": [
    {
     "name": "stderr",
     "output_type": "stream",
     "text": [
      "\u001b[34m\u001b[1mwandb\u001b[0m: \u001b[32m\u001b[41mERROR\u001b[0m Not authenticated.  Copy a key from https://app.wandb.ai/authorize\n",
      "\u001b[34m\u001b[1mwandb\u001b[0m: \u001b[32m\u001b[41mERROR\u001b[0m Can't accept input in this environment, you should set WANDB_API_KEY or call wandb.login(key='YOUR_API_KEY')\n"
     ]
    },
    {
     "data": {
      "text/html": [
       "\n",
       "                <b>Could not authenticate.</b><br/>\n",
       "            "
      ],
      "text/plain": [
       "<IPython.core.display.HTML object>"
      ]
     },
     "metadata": {},
     "output_type": "display_data"
    },
    {
     "data": {
      "text/html": [
       "\n",
       "            Using <a href=\"https://wandb.com\" target=\"_blank\">Weights & Biases</a> in dryrun mode. Not logging results to the cloud.<br/>\n",
       "            Call wandb.login() to authenticate this machine.<br/>\n",
       "        "
      ],
      "text/plain": [
       "<IPython.core.display.HTML object>"
      ]
     },
     "metadata": {},
     "output_type": "display_data"
    },
    {
     "name": "stderr",
     "output_type": "stream",
     "text": [
      "\u001b[34m\u001b[1mwandb\u001b[0m: Wandb version 0.9.1 is available!  To upgrade, please run:\n",
      "\u001b[34m\u001b[1mwandb\u001b[0m:  $ pip install wandb --upgrade\n"
     ]
    },
    {
     "data": {
      "text/plain": [
       "W&B Error: Can't find API key, run wandb login or set WANDB_API_KEY"
      ]
     },
     "execution_count": 37,
     "metadata": {},
     "output_type": "execute_result"
    }
   ],
   "source": [
    "### id is for run name\n",
    "wandb.init(project=\"image-captioning\", id=\"initial-run\")"
   ]
  },
  {
   "cell_type": "code",
   "execution_count": 38,
   "metadata": {},
   "outputs": [
    {
     "name": "stdout",
     "output_type": "stream",
     "text": [
      "Epoch 1 Batch 0 Loss 1.9233\n"
     ]
    },
    {
     "name": "stderr",
     "output_type": "stream",
     "text": [
      "\u001b[34m\u001b[1mwandb\u001b[0m: Wandb version 0.9.1 is available!  To upgrade, please run:\n",
      "\u001b[34m\u001b[1mwandb\u001b[0m:  $ pip install wandb --upgrade\n"
     ]
    },
    {
     "name": "stdout",
     "output_type": "stream",
     "text": [
      "Epoch 1 Loss 1.350736\n",
      "Time taken for 1 epoch 272.01242208480835 sec\n",
      "\n",
      "Epoch 2 Batch 0 Loss 1.2290\n",
      "Epoch 2 Loss 1.231870\n",
      "Time taken for 1 epoch 110.4753987789154 sec\n",
      "\n",
      "Epoch 3 Batch 0 Loss 1.2040\n",
      "Epoch 3 Loss 1.229931\n",
      "Time taken for 1 epoch 111.61562943458557 sec\n",
      "\n",
      "Epoch 4 Batch 0 Loss 1.2644\n",
      "Epoch 4 Loss 1.229338\n",
      "Time taken for 1 epoch 110.47138857841492 sec\n",
      "\n",
      "Epoch 5 Batch 0 Loss 1.2954\n",
      "Epoch 5 Loss 1.227331\n",
      "Time taken for 1 epoch 110.67935037612915 sec\n",
      "\n",
      "Epoch 6 Batch 0 Loss 1.2302\n",
      "Epoch 6 Loss 1.226623\n",
      "Time taken for 1 epoch 111.2239294052124 sec\n",
      "\n",
      "Epoch 7 Batch 0 Loss 1.1759\n",
      "Epoch 7 Loss 1.225484\n",
      "Time taken for 1 epoch 110.1174669265747 sec\n",
      "\n",
      "Epoch 8 Batch 0 Loss 1.2342\n",
      "Epoch 8 Loss 1.226100\n",
      "Time taken for 1 epoch 109.49009132385254 sec\n",
      "\n",
      "Epoch 9 Batch 0 Loss 1.2136\n",
      "Epoch 9 Loss 1.225724\n",
      "Time taken for 1 epoch 110.77115035057068 sec\n",
      "\n",
      "Epoch 10 Batch 0 Loss 1.2571\n",
      "Epoch 10 Loss 1.224396\n",
      "Time taken for 1 epoch 110.42040777206421 sec\n",
      "\n",
      "Epoch 11 Batch 0 Loss 1.2848\n",
      "Epoch 11 Loss 1.225491\n",
      "Time taken for 1 epoch 112.33957767486572 sec\n",
      "\n",
      "Epoch 12 Batch 0 Loss 1.2085\n",
      "Epoch 12 Loss 1.224564\n",
      "Time taken for 1 epoch 113.59766006469727 sec\n",
      "\n",
      "Epoch 13 Batch 0 Loss 1.2501\n",
      "Epoch 13 Loss 1.224405\n",
      "Time taken for 1 epoch 111.4470591545105 sec\n",
      "\n",
      "Epoch 14 Batch 0 Loss 1.2086\n",
      "Epoch 14 Loss 1.224868\n",
      "Time taken for 1 epoch 111.36971712112427 sec\n",
      "\n",
      "Epoch 15 Batch 0 Loss 1.2545\n",
      "Epoch 15 Loss 1.223539\n",
      "Time taken for 1 epoch 110.60456347465515 sec\n",
      "\n",
      "Epoch 16 Batch 0 Loss 1.2447\n",
      "Epoch 16 Loss 1.224191\n",
      "Time taken for 1 epoch 111.00417232513428 sec\n",
      "\n",
      "Epoch 17 Batch 0 Loss 1.2269\n",
      "Epoch 17 Loss 1.223083\n",
      "Time taken for 1 epoch 110.20814990997314 sec\n",
      "\n",
      "Epoch 18 Batch 0 Loss 1.2309\n",
      "Epoch 18 Loss 1.224400\n",
      "Time taken for 1 epoch 110.50287246704102 sec\n",
      "\n",
      "Epoch 19 Batch 0 Loss 1.2306\n",
      "Epoch 19 Loss 1.224800\n",
      "Time taken for 1 epoch 110.2268614768982 sec\n",
      "\n",
      "Epoch 20 Batch 0 Loss 1.2836\n",
      "Epoch 20 Loss 1.224016\n",
      "Time taken for 1 epoch 110.76518869400024 sec\n",
      "\n",
      "Epoch 21 Batch 0 Loss 1.2028\n",
      "Epoch 21 Loss 1.223463\n",
      "Time taken for 1 epoch 112.6316339969635 sec\n",
      "\n",
      "Epoch 22 Batch 0 Loss 1.3002\n",
      "Epoch 22 Loss 1.222823\n",
      "Time taken for 1 epoch 111.62313795089722 sec\n",
      "\n",
      "Epoch 23 Batch 0 Loss 1.2750\n",
      "Epoch 23 Loss 1.223393\n",
      "Time taken for 1 epoch 111.4014220237732 sec\n",
      "\n",
      "Epoch 24 Batch 0 Loss 1.1865\n",
      "Epoch 24 Loss 1.223527\n",
      "Time taken for 1 epoch 114.42125463485718 sec\n",
      "\n",
      "Epoch 25 Batch 0 Loss 1.2362\n",
      "Epoch 25 Loss 1.223206\n",
      "Time taken for 1 epoch 111.32345604896545 sec\n",
      "\n",
      "Epoch 26 Batch 0 Loss 1.2385\n",
      "Epoch 26 Loss 1.222319\n",
      "Time taken for 1 epoch 113.09670639038086 sec\n",
      "\n",
      "Epoch 27 Batch 0 Loss 1.2666\n",
      "Epoch 27 Loss 1.223910\n",
      "Time taken for 1 epoch 111.94857025146484 sec\n",
      "\n",
      "Epoch 28 Batch 0 Loss 1.1125\n",
      "Epoch 28 Loss 1.224657\n",
      "Time taken for 1 epoch 111.04509663581848 sec\n",
      "\n",
      "Epoch 29 Batch 0 Loss 1.1756\n",
      "Epoch 29 Loss 1.223562\n",
      "Time taken for 1 epoch 110.48151445388794 sec\n",
      "\n",
      "Epoch 30 Batch 0 Loss 1.1773\n",
      "Epoch 30 Loss 1.223339\n",
      "Time taken for 1 epoch 110.98088335990906 sec\n",
      "\n",
      "Epoch 31 Batch 0 Loss 1.2511\n",
      "Epoch 31 Loss 1.222870\n",
      "Time taken for 1 epoch 111.68931031227112 sec\n",
      "\n",
      "Epoch 32 Batch 0 Loss 1.1725\n",
      "Epoch 32 Loss 1.222943\n",
      "Time taken for 1 epoch 111.63297533988953 sec\n",
      "\n",
      "Epoch 33 Batch 0 Loss 1.2755\n",
      "Epoch 33 Loss 1.223628\n",
      "Time taken for 1 epoch 111.41829061508179 sec\n",
      "\n",
      "Epoch 34 Batch 0 Loss 1.2099\n",
      "Epoch 34 Loss 1.222759\n",
      "Time taken for 1 epoch 111.83028554916382 sec\n",
      "\n",
      "Epoch 35 Batch 0 Loss 1.2716\n",
      "Epoch 35 Loss 1.222444\n",
      "Time taken for 1 epoch 111.38392519950867 sec\n",
      "\n",
      "Epoch 36 Batch 0 Loss 1.2679\n",
      "Epoch 36 Loss 1.222960\n",
      "Time taken for 1 epoch 111.11568236351013 sec\n",
      "\n",
      "Epoch 37 Batch 0 Loss 1.1969\n",
      "Epoch 37 Loss 1.223696\n",
      "Time taken for 1 epoch 110.65256857872009 sec\n",
      "\n",
      "Epoch 38 Batch 0 Loss 1.2262\n",
      "Epoch 38 Loss 1.223758\n",
      "Time taken for 1 epoch 109.91590690612793 sec\n",
      "\n",
      "Epoch 39 Batch 0 Loss 1.1424\n",
      "Epoch 39 Loss 1.223754\n",
      "Time taken for 1 epoch 110.29620051383972 sec\n",
      "\n",
      "Epoch 40 Batch 0 Loss 1.2141\n",
      "Epoch 40 Loss 1.223446\n",
      "Time taken for 1 epoch 110.25956344604492 sec\n",
      "\n",
      "Epoch 41 Batch 0 Loss 1.1718\n",
      "Epoch 41 Loss 1.224398\n",
      "Time taken for 1 epoch 110.84946417808533 sec\n",
      "\n",
      "Epoch 42 Batch 0 Loss 1.2910\n",
      "Epoch 42 Loss 1.223129\n",
      "Time taken for 1 epoch 109.94319534301758 sec\n",
      "\n",
      "Epoch 43 Batch 0 Loss 1.2477\n",
      "Epoch 43 Loss 1.223064\n",
      "Time taken for 1 epoch 110.36293601989746 sec\n",
      "\n",
      "Epoch 44 Batch 0 Loss 1.1895\n",
      "Epoch 44 Loss 1.223792\n",
      "Time taken for 1 epoch 110.76167416572571 sec\n",
      "\n",
      "Epoch 45 Batch 0 Loss 1.1518\n",
      "Epoch 45 Loss 1.223401\n",
      "Time taken for 1 epoch 110.07666873931885 sec\n",
      "\n",
      "Epoch 46 Batch 0 Loss 1.2362\n",
      "Epoch 46 Loss 1.222863\n",
      "Time taken for 1 epoch 111.05181765556335 sec\n",
      "\n",
      "Epoch 47 Batch 0 Loss 1.1552\n",
      "Epoch 47 Loss 1.223373\n",
      "Time taken for 1 epoch 109.51539611816406 sec\n",
      "\n",
      "Epoch 48 Batch 0 Loss 1.2346\n",
      "Epoch 48 Loss 1.223980\n",
      "Time taken for 1 epoch 109.22075891494751 sec\n",
      "\n",
      "Epoch 49 Batch 0 Loss 1.1647\n",
      "Epoch 49 Loss 1.223316\n",
      "Time taken for 1 epoch 109.21959114074707 sec\n",
      "\n",
      "Epoch 50 Batch 0 Loss 1.2224\n",
      "Epoch 50 Loss 1.223395\n",
      "Time taken for 1 epoch 109.69105195999146 sec\n",
      "\n",
      "Epoch 51 Batch 0 Loss 1.2088\n",
      "Epoch 51 Loss 1.224054\n",
      "Time taken for 1 epoch 114.69607353210449 sec\n",
      "\n",
      "Epoch 52 Batch 0 Loss 1.3268\n",
      "Epoch 52 Loss 1.223179\n",
      "Time taken for 1 epoch 115.09964036941528 sec\n",
      "\n",
      "Epoch 53 Batch 0 Loss 1.2215\n",
      "Epoch 53 Loss 1.224096\n",
      "Time taken for 1 epoch 110.26670742034912 sec\n",
      "\n",
      "Epoch 54 Batch 0 Loss 1.1875\n",
      "Epoch 54 Loss 1.223164\n",
      "Time taken for 1 epoch 109.5617024898529 sec\n",
      "\n",
      "Epoch 55 Batch 0 Loss 1.2189\n",
      "Epoch 55 Loss 1.223075\n",
      "Time taken for 1 epoch 109.40933322906494 sec\n",
      "\n",
      "Epoch 56 Batch 0 Loss 1.2539\n",
      "Epoch 56 Loss 1.223186\n",
      "Time taken for 1 epoch 110.06198167800903 sec\n",
      "\n",
      "Epoch 57 Batch 0 Loss 1.1783\n",
      "Epoch 57 Loss 1.223593\n",
      "Time taken for 1 epoch 109.08033227920532 sec\n",
      "\n",
      "Epoch 58 Batch 0 Loss 1.2558\n",
      "Epoch 58 Loss 1.224322\n",
      "Time taken for 1 epoch 109.38525176048279 sec\n",
      "\n",
      "Epoch 59 Batch 0 Loss 1.2450\n",
      "Epoch 59 Loss 1.222839\n",
      "Time taken for 1 epoch 109.02149891853333 sec\n",
      "\n",
      "Epoch 60 Batch 0 Loss 1.2242\n",
      "Epoch 60 Loss 1.223802\n",
      "Time taken for 1 epoch 108.82734680175781 sec\n",
      "\n",
      "Epoch 61 Batch 0 Loss 1.2114\n",
      "Epoch 61 Loss 1.223743\n",
      "Time taken for 1 epoch 117.77980065345764 sec\n",
      "\n",
      "Epoch 62 Batch 0 Loss 1.2213\n",
      "Epoch 62 Loss 1.222995\n",
      "Time taken for 1 epoch 109.0010449886322 sec\n",
      "\n",
      "Epoch 63 Batch 0 Loss 1.2814\n",
      "Epoch 63 Loss 1.224577\n",
      "Time taken for 1 epoch 130.17737007141113 sec\n",
      "\n",
      "Epoch 64 Batch 0 Loss 1.1797\n",
      "Epoch 64 Loss 1.223356\n",
      "Time taken for 1 epoch 109.2139732837677 sec\n",
      "\n",
      "Epoch 65 Batch 0 Loss 1.2487\n",
      "Epoch 65 Loss 1.223319\n",
      "Time taken for 1 epoch 108.9954206943512 sec\n",
      "\n",
      "Epoch 66 Batch 0 Loss 1.2419\n",
      "Epoch 66 Loss 1.222709\n",
      "Time taken for 1 epoch 111.80069851875305 sec\n",
      "\n",
      "Epoch 67 Batch 0 Loss 1.2681\n",
      "Epoch 67 Loss 1.223538\n",
      "Time taken for 1 epoch 109.62046813964844 sec\n",
      "\n",
      "Epoch 68 Batch 0 Loss 1.2347\n",
      "Epoch 68 Loss 1.222831\n",
      "Time taken for 1 epoch 109.62162899971008 sec\n",
      "\n",
      "Epoch 69 Batch 0 Loss 1.2187\n",
      "Epoch 69 Loss 1.222010\n",
      "Time taken for 1 epoch 108.67753887176514 sec\n",
      "\n",
      "Epoch 70 Batch 0 Loss 1.2283\n",
      "Epoch 70 Loss 1.222347\n",
      "Time taken for 1 epoch 108.66331219673157 sec\n",
      "\n",
      "Epoch 71 Batch 0 Loss 1.1283\n",
      "Epoch 71 Loss 1.222100\n",
      "Time taken for 1 epoch 109.6318998336792 sec\n",
      "\n",
      "Epoch 72 Batch 0 Loss 1.3548\n",
      "Epoch 72 Loss 1.222869\n",
      "Time taken for 1 epoch 109.95491671562195 sec\n",
      "\n",
      "Epoch 73 Batch 0 Loss 1.2206\n",
      "Epoch 73 Loss 1.222496\n",
      "Time taken for 1 epoch 109.57287120819092 sec\n",
      "\n",
      "Epoch 74 Batch 0 Loss 1.1221\n",
      "Epoch 74 Loss 1.222779\n",
      "Time taken for 1 epoch 109.09430360794067 sec\n",
      "\n",
      "Epoch 75 Batch 0 Loss 1.3100\n",
      "Epoch 75 Loss 1.222101\n",
      "Time taken for 1 epoch 108.3053708076477 sec\n",
      "\n",
      "Epoch 76 Batch 0 Loss 1.2447\n",
      "Epoch 76 Loss 1.221903\n",
      "Time taken for 1 epoch 110.15840458869934 sec\n",
      "\n",
      "Epoch 77 Batch 0 Loss 1.2200\n",
      "Epoch 77 Loss 1.223107\n",
      "Time taken for 1 epoch 109.12903809547424 sec\n",
      "\n",
      "Epoch 78 Batch 0 Loss 1.2693\n",
      "Epoch 78 Loss 1.222813\n",
      "Time taken for 1 epoch 108.73918628692627 sec\n",
      "\n",
      "Epoch 79 Batch 0 Loss 1.2880\n",
      "Epoch 79 Loss 1.222715\n",
      "Time taken for 1 epoch 109.50655508041382 sec\n",
      "\n",
      "Epoch 80 Batch 0 Loss 1.1973\n",
      "Epoch 80 Loss 1.223155\n",
      "Time taken for 1 epoch 109.2989935874939 sec\n",
      "\n",
      "Epoch 81 Batch 0 Loss 1.1809\n",
      "Epoch 81 Loss 1.223580\n",
      "Time taken for 1 epoch 109.51751708984375 sec\n",
      "\n",
      "Epoch 82 Batch 0 Loss 1.1368\n",
      "Epoch 82 Loss 1.222748\n",
      "Time taken for 1 epoch 109.29147100448608 sec\n",
      "\n",
      "Epoch 83 Batch 0 Loss 1.1203\n",
      "Epoch 83 Loss 1.223517\n",
      "Time taken for 1 epoch 108.54981923103333 sec\n",
      "\n",
      "Epoch 84 Batch 0 Loss 1.2533\n",
      "Epoch 84 Loss 1.223273\n",
      "Time taken for 1 epoch 108.49173402786255 sec\n",
      "\n",
      "Epoch 85 Batch 0 Loss 1.1391\n",
      "Epoch 85 Loss 1.220787\n",
      "Time taken for 1 epoch 108.3560140132904 sec\n",
      "\n",
      "Epoch 86 Batch 0 Loss 1.3317\n",
      "Epoch 86 Loss 1.223900\n",
      "Time taken for 1 epoch 109.2793653011322 sec\n",
      "\n",
      "Epoch 87 Batch 0 Loss 1.1885\n",
      "Epoch 87 Loss 1.223268\n",
      "Time taken for 1 epoch 109.17099595069885 sec\n",
      "\n",
      "Epoch 88 Batch 0 Loss 1.2182\n",
      "Epoch 88 Loss 1.222166\n",
      "Time taken for 1 epoch 116.48672461509705 sec\n",
      "\n",
      "Epoch 89 Batch 0 Loss 1.1629\n",
      "Epoch 89 Loss 1.222568\n",
      "Time taken for 1 epoch 110.55365562438965 sec\n",
      "\n",
      "Epoch 90 Batch 0 Loss 1.1608\n",
      "Epoch 90 Loss 1.222275\n",
      "Time taken for 1 epoch 108.93892455101013 sec\n",
      "\n",
      "Epoch 91 Batch 0 Loss 1.2223\n",
      "Epoch 91 Loss 1.221730\n",
      "Time taken for 1 epoch 109.33287787437439 sec\n",
      "\n",
      "Epoch 92 Batch 0 Loss 1.2096\n",
      "Epoch 92 Loss 1.223100\n",
      "Time taken for 1 epoch 110.56879830360413 sec\n",
      "\n",
      "Epoch 93 Batch 0 Loss 1.1248\n",
      "Epoch 93 Loss 1.223442\n",
      "Time taken for 1 epoch 108.98738813400269 sec\n",
      "\n",
      "Epoch 94 Batch 0 Loss 1.2186\n",
      "Epoch 94 Loss 1.221677\n",
      "Time taken for 1 epoch 108.8584372997284 sec\n",
      "\n",
      "Epoch 95 Batch 0 Loss 1.1785\n",
      "Epoch 95 Loss 1.222839\n",
      "Time taken for 1 epoch 108.53772759437561 sec\n",
      "\n",
      "Epoch 96 Batch 0 Loss 1.2531\n",
      "Epoch 96 Loss 1.220862\n",
      "Time taken for 1 epoch 110.21240639686584 sec\n",
      "\n",
      "Epoch 97 Batch 0 Loss 1.2305\n",
      "Epoch 97 Loss 1.221546\n",
      "Time taken for 1 epoch 109.98406767845154 sec\n",
      "\n",
      "Epoch 98 Batch 0 Loss 1.1573\n",
      "Epoch 98 Loss 1.223164\n",
      "Time taken for 1 epoch 109.45496225357056 sec\n",
      "\n",
      "Epoch 99 Batch 0 Loss 1.1986\n",
      "Epoch 99 Loss 1.222393\n",
      "Time taken for 1 epoch 109.94515800476074 sec\n",
      "\n",
      "Epoch 100 Batch 0 Loss 1.2111\n",
      "Epoch 100 Loss 1.221190\n",
      "Time taken for 1 epoch 109.31444191932678 sec\n",
      "\n"
     ]
    }
   ],
   "source": [
    "EPOCHS = 100\n",
    "\n",
    "\n",
    "for epoch in range(start_epoch, EPOCHS):\n",
    "    start = time.time()\n",
    "    total_loss = 0\n",
    "    \n",
    "    for (batch, (img_tensor, target)) in enumerate(dataset):\n",
    "        batch_loss, t_loss = train_step(img_tensor, target)\n",
    "        total_loss += t_loss\n",
    "        \n",
    "        if batch % 100 == 0:\n",
    "            print ('Epoch {} Batch {} Loss {:.4f}'.format(\n",
    "              epoch + 1, batch, batch_loss.numpy() / int(target.shape[1])))\n",
    "    \n",
    "    # storing the epoch end loss value to plot later\n",
    "    loss_plot.append(total_loss / num_steps)\n",
    "    wandb.log({\"loss\": total_loss / num_steps})\n",
    "    \n",
    "    \n",
    "    if epoch % 5 == 0:\n",
    "        ckpt_manager.save()\n",
    "    \n",
    "    \n",
    "    print ('Epoch {} Loss {:.6f}'.format(epoch + 1,\n",
    "                                         total_loss/num_steps))\n",
    "    print ('Time taken for 1 epoch {} sec\\n'.format(time.time() - start))\n",
    "    \n",
    "\n",
    "    "
   ]
  },
  {
   "cell_type": "code",
   "execution_count": 39,
   "metadata": {},
   "outputs": [
    {
     "data": {
      "image/png": "[encoded data removed]",
      "text/plain": [
       "<Figure size 432x288 with 1 Axes>"
      ]
     },
     "metadata": {
      "needs_background": "light"
     },
     "output_type": "display_data"
    }
   ],
   "source": [
    "plt.plot(loss_plot)\n",
    "plt.xlabel('Epochs')\n",
    "plt.ylabel('Loss')\n",
    "plt.title('Loss Plot')\n",
    "plt.show()"
   ]
  },
  {
   "cell_type": "code",
   "execution_count": 40,
   "metadata": {},
   "outputs": [],
   "source": [
    "def evaluate(image):\n",
    "    \n",
    "    #Plotting the attention weights\n",
    "    attention_plot = np.zeros((max_length, attention_features_shape))\n",
    "\n",
    "    hidden = decoder.reset_state(batch_size=1)\n",
    "    \n",
    "    #loading image with random caption\n",
    "    img,_ = load_image(image,'')\n",
    "    temp_input = tf.expand_dims(img, 0)\n",
    "    \n",
    "    #extracting image features\n",
    "    features = encoder(temp_input)\n",
    "    \n",
    "    #dec imput\n",
    "    dec_input = tf.expand_dims([tokenizer.word_index['<start>']], 0)\n",
    "    result = []\n",
    "\n",
    "    for i in range(max_length):\n",
    "        predictions, hidden, attention_weights = decoder(dec_input, features, hidden)\n",
    "\n",
    "        attention_plot[i] = tf.reshape(attention_weights, (-1, )).numpy()\n",
    "\n",
    "        predicted_id = tf.random.categorical(predictions, 1)[0][0].numpy()\n",
    "        result.append(tokenizer.index_word[predicted_id])\n",
    "\n",
    "        if tokenizer.index_word[predicted_id] == '<end>':\n",
    "            return result, attention_plot\n",
    "\n",
    "        dec_input = tf.expand_dims([predicted_id], 0)\n",
    "\n",
    "    attention_plot = attention_plot[:len(result), :]\n",
    "    return result, attention_plot"
   ]
  },
  {
   "cell_type": "code",
   "execution_count": 41,
   "metadata": {},
   "outputs": [],
   "source": [
    "def plot_attention(image, result, attention_plot):\n",
    "    temp_image = np.array(Image.open(image))\n",
    "\n",
    "    fig = plt.figure(figsize=(10, 10))\n",
    "\n",
    "    len_result = len(result)\n",
    "    for l in range(len_result):\n",
    "        temp_att = np.resize(attention_plot[l], (8, 8))\n",
    "        ax = fig.add_subplot(len_result//2, len_result//2, l+1)\n",
    "        ax.set_title(result[l])\n",
    "        img = ax.imshow(temp_image)\n",
    "        ax.imshow(temp_att, cmap='gray', alpha=0.6, extent=img.get_extent())\n",
    "\n",
    "    plt.tight_layout()\n",
    "    plt.show()"
   ]
  },
  {
   "cell_type": "code",
   "execution_count": 42,
   "metadata": {},
   "outputs": [
    {
     "name": "stdout",
     "output_type": "stream",
     "text": [
      "Real Caption: <start> a tan dog and a cream colored dog run through grasslands <end>\n",
      "Prediction Caption: play kiss blue a black wearing <end>\n"
     ]
    },
    {
     "data": {
      "image/png": "[encoded data removed]",
      "text/plain": [
       "<Figure size 720x720 with 7 Axes>"
      ]
     },
     "metadata": {
      "needs_background": "light"
     },
     "output_type": "display_data"
    }
   ],
   "source": [
    "\n",
    "# captions on the validation set\n",
    "rid = np.random.randint(0, len(img_name_val))\n",
    "image = img_name_val[rid]\n",
    "real_caption = ' '.join([tokenizer.index_word[i] for i in cap_val[rid] if i not in [0]])\n",
    "result, attention_plot = evaluate(image)\n",
    "\n",
    "print ('Real Caption:', real_caption)\n",
    "print ('Prediction Caption:', ' '.join(result))\n",
    "plot_attention(image, result, attention_plot)\n"
   ]
  },
  {
   "cell_type": "code",
   "execution_count": null,
   "metadata": {},
   "outputs": [],
   "source": [
    "### include more data to get better captions for the image"
   ]
  },
  {
   "cell_type": "code",
   "execution_count": null,
   "metadata": {},
   "outputs": [],
   "source": []
  },
  {
   "cell_type": "code",
   "execution_count": null,
   "metadata": {},
   "outputs": [],
   "source": []
  },
  {
   "cell_type": "code",
   "execution_count": null,
   "metadata": {},
   "outputs": [],
   "source": []
  },
  {
   "cell_type": "code",
   "execution_count": 43,
   "metadata": {},
   "outputs": [],
   "source": [
    "# x = tf.random.normal(shape = (100,299,299,3))\n",
    "# x.shape\n",
    "# enc = CNN_Encoder(256)\n",
    "# enc(x).shape"
   ]
  }
 ],
 "metadata": {
  "kernelspec": {
   "display_name": "Python 3",
   "language": "python",
   "name": "python3"
  },
  "language_info": {
   "codemirror_mode": {
    "name": "ipython",
    "version": 3
   },
   "file_extension": ".py",
   "mimetype": "text/x-python",
   "name": "python",
   "nbconvert_exporter": "python",
   "pygments_lexer": "ipython3",
   "version": "3.6.9"
  }
 },
 "nbformat": 4,
 "nbformat_minor": 4
}
